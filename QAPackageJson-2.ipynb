{
 "cells": [
  {
   "cell_type": "markdown",
   "id": "52824b89-532a-4e54-87e9-1410813cd39e",
   "metadata": {},
   "source": [
    "# Q&A over package.json\n",
    "\n",
    "Pure OpenAPI with no Embedding"
   ]
  },
  {
   "cell_type": "code",
   "execution_count": 17,
   "id": "974acf8e-8f88-42de-88f8-40a82cb58e8b",
   "metadata": {
    "height": 98
   },
   "outputs": [],
   "source": [
    "import openai\n",
    "import os\n",
    "import json\n",
    "from pathlib import Path"
   ]
  },
  {
   "cell_type": "code",
   "execution_count": 18,
   "id": "485f070a",
   "metadata": {},
   "outputs": [],
   "source": [
    "import os\n",
    "from dotenv import load_dotenv, find_dotenv\n",
    "_ = load_dotenv(find_dotenv()) # read local .env file\n",
    "\n",
    "openai.api_key = os.getenv(\"OPENAI_API_KEY\")"
   ]
  },
  {
   "cell_type": "code",
   "execution_count": 19,
   "id": "ad223eb5",
   "metadata": {},
   "outputs": [
    {
     "name": "stdout",
     "output_type": "stream",
     "text": [
      "Decoding JSON has failed for pivotal-cf/dr-frankenstyle: Expecting value: line 1 column 1 (char 0)\n"
     ]
    }
   ],
   "source": [
    "file_path = \"package_json_sample_sample.json\"\n",
    "data = json.loads(Path(file_path).read_text())\n",
    "page_content = \"\"\n",
    "i = 1\n",
    "for d in data:\n",
    "    repo_name = d[\"repo_name\"]\n",
    "    package_json_raw = d[\"package_json\"]\n",
    "    try:\n",
    "        package_json = json.loads(package_json_raw)\n",
    "        if type(package_json) is dict and \"dependencies\" in package_json:\n",
    "            dependencies = package_json[\"dependencies\"]\n",
    "            page_content += f\"The Repository '{repo_name}' has the following dependencies: {str(dependencies)}\\n\\n\"\n",
    "    except ValueError as e:\n",
    "        print(f\"Decoding JSON has failed for {repo_name}: {e}\")"
   ]
  },
  {
   "cell_type": "code",
   "execution_count": 25,
   "id": "2e0ec349",
   "metadata": {},
   "outputs": [
    {
     "data": {
      "text/plain": [
       "\"Given the list below. Which is the most used dependency? How many repositories depend on it? Which repositories depend on it?\\n\\nThe Repository 'ungerik/react-dmodel' has the following dependencies: {'babel-core': '^5.8.34', 'babel-eslint': '^4.1.6', 'babel-jest': '^5.3.0', 'babel-loader': '^5.4.0', 'babel-plugin-react-transform': '^1.1.1', 'bower': '^1.7.0', 'core-decorators': '^0.11.0', 'css-loader': '^0.23.0', 'eslint': '^1.10.3', 'eslint-plugin-babel': '^3.0.0', 'eslint-plugin-react': '^3.14.0', 'file-loader': '^0.8.4', 'html-loader': '^0.4.0', 'http-server': '^0.8.5', 'json-loader': '^0.5.4', 'npm-check-updates': '^2.5.4', 'react': '^0.14.6', 'react-addons-test-utils': '^0.14.6', 'react-dmodel': 'ungerik/react-dmodel', 'react-dom': '^0.14.6', 'react-router': '^1.0.3', 'react-router-bootstrap': '^0.19.3', 'react-transform-catch-errors': '^1.0.1', 'react-transform-hmr': '^1.0.1', 'react-webpack-config': 'ungerik/react-webpack-config', 'redbox-react': '^1.2.0', 'rimraf': '^2.4.3', 'style-loader': '^0.13.0', 'url-loader': '^0.5.6', 'webpack': '^1.12.10', 'webpack-dev-middleware': '^1.4.0', 'webpack-dev-server': '^1.14.0', 'webpack-hot-middleware': '^2.5.0'}\\n\\nThe Repository 'fdecampredon/brackets-eslint' has the following dependencies: {'glob': '^7.0.0'}\\n\\nThe Repository 'dipu-bd/VaccineForChild' has the following dependencies: {}\\n\\nThe Repository 'nishoknm/CMS' has the following dependencies: {'cookie': '0.1.3', 'cookie-signature': '1.0.6'}\\n\\nThe Repository 'wintersummermint/generator-angular-one' has the following dependencies: {}\\n\\nThe Repository 'cloudfoundry-incubator/cf-abacus' has the following dependencies: {'abacus-debug': 'file:../debug', 'abacus-yieldable': 'file:../yieldable', 'babel-preset-es2015': '^6.6.0', 'retry': '^0.6.1', 'underscore': '^1.8.3'}\\n\\nThe Repository 'nvictus/django-stackedit' has the following dependencies: {'express': '3.x', 'ejs': '~0.8.4'}\\n\\nThe Repository 'jamesshore/automatopia' has the following dependencies: {'readable-stream': '^2.0.2'}\\n\\nThe Repository 'gaiaehr/gaiaehr' has the following dependencies: {'amdefine': '>=0.0.4'}\\n\\nThe Repository 'steveacalabro/CraftMate' has the following dependencies: {'debug': '*', 'mime': '1.2.6', 'fresh': '0.1.0', 'range-parser': '0.0.4'}\\n\\nThe Repository 'csmets/Monkey-Inline' has the following dependencies: {'aws-sign2': '~0.6.0', 'aws4': '^1.2.1', 'bl': '~1.0.0', 'caseless': '~0.11.0', 'combined-stream': '~1.0.5', 'extend': '~3.0.0', 'forever-agent': '~0.6.1', 'form-data': '~1.0.0-rc3', 'har-validator': '~2.0.6', 'hawk': '~3.1.0', 'http-signature': '~1.1.0', 'is-typedarray': '~1.0.0', 'isstream': '~0.1.2', 'json-stringify-safe': '~5.0.1', 'mime-types': '~2.1.7', 'node-uuid': '~1.4.7', 'oauth-sign': '~0.8.0', 'qs': '~6.0.2', 'stringstream': '~0.0.4', 'tough-cookie': '~2.2.0', 'tunnel-agent': '~0.4.1'}\\n\\nThe Repository 'scriptnull/compilex' has the following dependencies: {}\\n\\nThe Repository 'vsoft-lab/vsoft.vn' has the following dependencies: {'mime-types': '~2.1.6', 'negotiator': '0.5.3'}\\n\\nThe Repository 'eti1337/arc-theme-orange' has the following dependencies: {'ansi-regex': '^2.0.0'}\\n\\nThe Repository 'hilen/hexo-theme-themia' has the following dependencies: {'abbrev': '1'}\\n\\nThe Repository 'CiroArtigot/ababool' has the following dependencies: {'end-of-stream': '1.0.0', 'readable-stream': '^2.0.0'}\\n\\nThe Repository 'damianopetrungaro/generator-angular-rest' has the following dependencies: {}\\n\\nThe Repository 'forivall/tacoscript' has the following dependencies: {'babel-runtime': '^6.0.0', 'comal': '^0.6.0', 'comal-traverse': '^0.6.0', 'lodash': '^4.12.0', 'tacoscript-cst-utils': '^0.6.0'}\\n\\nThe Repository 'theogravity/react-styleguide-generator-alt' has the following dependencies: {'react': '^0.14.0', 'react-bootstrap': '0.27.1', 'react-dom': '^0.14.0'}\\n\\nThe Repository 'duan78/suggest-api' has the following dependencies: {}\\n\\nThe Repository 'finn-no/unleash' has the following dependencies: {'lodash': '^3.5.0', 'moment': '^2.13.0', 'react': '^0.13.1', 'react-router': '^0.13.2', 'reflux': '^0.2.10', 'reqwest': '^2.0.5'}\\n\\nThe Repository 'EscuelaIt/Herramientas-Frontend-2015' has the following dependencies: {'array-uniq': '^1.0.1'}\\n\\nThe Repository 'AtomBuild/atom-build-gulp' has the following dependencies: {}\\n\\nThe Repository 'jamesshore/automatopia' has the following dependencies: {'domhandler': '2.3', 'domutils': '1.5', 'domelementtype': '1', 'readable-stream': '1.1', 'entities': '1.0'}\\n\\nThe Repository 'kyledrake/coinpunk' has the following dependencies: {'connect': '2.12.0', 'commander': '1.3.2', 'range-parser': '0.0.4', 'mkdirp': '0.3.5', 'cookie': '0.1.0', 'buffer-crc32': '0.2.1', 'fresh': '0.2.0', 'methods': '0.1.0', 'send': '0.1.4', 'cookie-signature': '1.0.1', 'merge-descriptors': '0.0.1', 'debug': '>= 0.7.3 < 1'}\\n\\nThe Repository 'NNRUG/it52-rails' has the following dependencies: {'esprima': '~1.0.4'}\\n\\nThe Repository 'leanote/leanote-ios' has the following dependencies: {'clone-stats': '~0.0.1'}\\n\\nThe Repository 'sea-watch/sea-watch-app' has the following dependencies: {}\\n\\nThe Repository 'duan78/suggest-api' has the following dependencies: {'core-util-is': '~1.0.0', 'inherits': '~2.0.1', 'isarray': '0.0.1', 'process-nextick-args': '~1.0.6', 'string_decoder': '~0.10.x', 'util-deprecate': '~1.0.1'}\\n\\nThe Repository 'forivall/tacoscript' has the following dependencies: {'babel-runtime': '^6.0.0', 'babel-types': '^6.7.0', 'detect-indent': '^4.0.0', 'horchata': '^0.6.0', 'is-integer': '^1.0.6', 'lodash': '^4.6.1', 'repeating': '^2.0.1', 'source-map': '^0.5.5', 'tacoscript-cst-utils': '^0.6.0'}\\n\\nThe Repository 'amschaal/bioshare' has the following dependencies: {'jquery': '>=1.6', 'jquery.ui.widget': '>=1.9', 'blueimp-tmpl': '>=2.1.0', 'blueimp-load-image': '>=1.5.0', 'blueimp-canvas-to-blob': '>=2.0.5'}\\n\\nThe Repository 'yahoo/mojito' has the following dependencies: {'debug': '*', 'node-markdown': '*', 'mojito': '~0.9.0'}\\n\\nThe Repository 'ifandelse/Knockout.js-External-Template-Engine' has the following dependencies: {}\\n\\nThe Repository 'stu-blair/game-of-spoils' has the following dependencies: {'chalk': '^1.1.1', 'commander': '^2.9.0', 'is-my-json-valid': '^2.12.3', 'pinkie-promise': '^2.0.0'}\\n\\nThe Repository 'stu-blair/game-of-spoils' has the following dependencies: {'graceful-readlink': '>= 1.0.0'}\\n\\nThe Repository 'CodeCorp/Arpiano' has the following dependencies: {}\\n\\nThe Repository 'ozum/hapi-locale' has the following dependencies: {}\\n\\nThe Repository 'nfl/react-wildcat' has the following dependencies: {'cookie': '^0.3.1', 'cookies-js': '^1.2.2', 'history': '^2.1.2', 'isomorphic-fetch': '^2.2.1', 'parse-domain': '^0.2.1', 'react': '15.1.0', 'react-dom': '15.1.0', 'react-helmet': '^3.1.0', 'react-router': '^2.5.0', 'react-wildcat-hot-reloader': '4.1.0'}\\n\\nThe Repository 'jeshaitan/Scicademy' has the following dependencies: {}\\n\\nThe Repository 'nishoknm/CMS' has the following dependencies: {}\\n\\nThe Repository 'ParsePlatform/Parse-SDK-JS' has the following dependencies: {'express': '^4.13.4', 'mocha': '^2.4.5', 'parse-server': '^2.1.1'}\\n\\nThe Repository 'smycynek/hue-console' has the following dependencies: {'lru-cache': '2', 'sigmund': '~1.0.0'}\\n\\nThe Repository 'ninapetrop/Artist-Theme' has the following dependencies: {}\\n\\nThe Repository 'stu-blair/game-of-spoils' has the following dependencies: {}\\n\\nThe Repository 'gilAsier/angular2-jspm-babel-node' has the following dependencies: {}\\n\\nThe Repository 'an-huynh/Block-and-Talk' has the following dependencies: {}\\n\\nThe Repository 'mozilla/socorro' has the following dependencies: {'cssmin': '0.4.3', 'less': '2.5.3', 'uglify-js': '2.6.1'}\\n\\nThe Repository 'badsyntax/jquery-spellchecker' has the following dependencies: {'qs': '0.4.2', 'formidable': '1.0.11', 'crc': '0.2.0', 'cookie': '0.0.4', 'bytes': '0.1.0', 'send': '0.0.4', 'fresh': '0.1.0', 'pause': '0.0.1', 'debug': '*'}\\n\\nThe Repository 'blinkfox/ghost-matery' has the following dependencies: {'lodash': '>=2.0.0'}\\n\\nThe Repository 'illacceptanything/illacceptanything' has the following dependencies: {'coffee-script': '~1.9.1', 'node-uuid': '~1.4.3', 'pegjs': '~0.8.0', 'minimist': '~1.1.1', 'mustache': '~2.0.0', 'blessed': '~0.0.51', 'pretty-error': '~1.1.2', 'bluebird': '~2.9.24', 'lodash-compat': '~3.6.0'}\\n\\nThe Repository 'ninapetrop/Artist-Theme' has the following dependencies: {'lodash': '^3.0.1', 'opt-merger': '^1.1.0', 'tfunk': '^3.0.1'}\\n\\nThe Repository 'jendewalt/jennifer_dewalt' has the following dependencies: {}\\n\\nThe Repository 'mcaniw/CuBl' has the following dependencies: {}\\n\\nThe Repository 'mjmlio/mjml' has the following dependencies: {'lodash': '^4.13.1', 'mjml-core': '^2.3.0', 'react': '^15.1.0'}\\n\\nThe Repository 'backchatio/hookup' has the following dependencies: {'underscore': '', 'faye-websocket': '', 'dateformat': '', 'mkdirp': ''}\\n\\nThe Repository 'CodeCorp/Voizzle' has the following dependencies: {}\\n\\nThe Repository 'rudolfoborges/mysql-easy-model' has the following dependencies: {'bignumber.js': '2.1.2', 'readable-stream': '~1.1.13'}\\n\\nThe Repository 'loringdodge/ionic-nifty-modal' has the following dependencies: {'gulp': '^3.5.6', 'gulp-sass': '^1.3.3', 'gulp-concat': '^2.2.0', 'gulp-minify-css': '^0.3.0', 'gulp-rename': '^1.2.0'}\\n\\nThe Repository 'matthew-sun/MUI' has the following dependencies: {'cwise-parser': '~0.0.1', 'cwise-compiler': '~0.0.0'}\\n\\nThe Repository 'facebook/WebDriverAgent' has the following dependencies: {'babel-plugin-constant-folding': '^1.0.1', 'babel-plugin-dead-code-elimination': '^1.0.2', 'babel-plugin-eval': '^1.0.1', 'babel-plugin-inline-environment-variables': '^1.0.1', 'babel-plugin-jscript': '^1.0.4', 'babel-plugin-member-expression-literals': '^1.0.1', 'babel-plugin-property-literals': '^1.0.1', 'babel-plugin-proto-to-assign': '^1.0.3', 'babel-plugin-react-constant-elements': '^1.0.3', 'babel-plugin-react-display-name': '^1.0.3', 'babel-plugin-remove-console': '^1.0.1', 'babel-plugin-remove-debugger': '^1.0.1', 'babel-plugin-runtime': '^1.0.7', 'babel-plugin-undeclared-variables-check': '^1.0.2', 'babel-plugin-undefined-to-void': '^1.1.6', 'babylon': '^5.8.23', 'bluebird': '^2.9.33', 'chalk': '^1.0.0', 'convert-source-map': '^1.1.0', 'core-js': '^1.0.0', 'debug': '^2.1.1', 'detect-indent': '^3.0.0', 'esutils': '^2.0.0', 'fs-readdir-recursive': '^0.1.0', 'globals': '^6.4.0', 'home-or-tmp': '^1.0.0', 'is-integer': '^1.0.4', 'js-tokens': '1.0.1', 'json5': '^0.4.0', 'line-numbers': '0.2.0', 'lodash': '^3.10.0', 'minimatch': '^2.0.3', 'output-file-sync': '^1.1.0', 'path-exists': '^1.0.0', 'path-is-absolute': '^1.0.0', 'private': '^0.1.6', 'regenerator': '0.8.35', 'regexpu': '^1.1.2', 'repeating': '^1.1.2', 'resolve': '^1.1.6', 'shebang-regex': '^1.0.0', 'slash': '^1.0.0', 'source-map': '^0.4.0', 'source-map-support': '^0.2.10', 'to-fast-properties': '^1.0.0', 'trim-right': '^1.0.0', 'try-resolve': '^1.0.0'}\\n\\nThe Repository 'antonshevchenko/pager' has the following dependencies: {'inflight': '^1.0.4', 'inherits': '2', 'minimatch': '^2.0.1', 'once': '^1.3.0'}\\n\\nThe Repository 'Khan/khan-linter' has the following dependencies: {'lodash._baseclone': '^3.0.0', 'lodash._bindcallback': '^3.0.0'}\\n\\nThe Repository 'openT2T/translators' has the following dependencies: {'node-hue-api': '~2.2.0'}\\n\\nThe Repository 'fabiorogeriosj/getfont' has the following dependencies: {}\\n\\nThe Repository 'jeshaitan/Scicademy' has the following dependencies: {'lodash': '~3.5.0'}\\n\\nThe Repository 'gritzko/swarm' has the following dependencies: {}\\n\\nThe Repository 'fnando/babel-schmooze-sprockets' has the following dependencies: {'core-js': '^2.4.0', 'regenerator-runtime': '^0.9.5'}\\n\\nThe Repository 'magicismight/react-native-root-siblings' has the following dependencies: {'react-native': '^0.17.0', 'react-native-root-siblings': '^1.0.3'}\\n\\nThe Repository 'DawnyWu/Merriam-Webster' has the following dependencies: {}\\n\\nThe Repository 'bjoernklose/angular-wordpress-pods' has the following dependencies: {}\\n\\nThe Repository 'hoenirvili/EDeC' has the following dependencies: {}\\n\\nThe Repository 'booleanhunter/tasKomplete' has the following dependencies: {}\\n\\nThe Repository 'booleanhunter/tasKomplete' has the following dependencies: {}\\n\\nThe Repository 'sea-watch/sea-watch-app' has the following dependencies: {'base64-js': '0.0.8', 'xmlbuilder': '4.0.0', 'xmldom': '0.1.x', 'util-deprecate': '1.0.2'}\\n\\nThe Repository 'Orange-OpenSource/Datavenue-NodeJS-SDK' has the following dependencies: {}\\n\\nThe Repository 'smycynek/hue-console' has the following dependencies: {}\\n\\nThe Repository 'FredericHeem/starhackit' has the following dependencies: {'axios': '0.9.1', 'babel': '5.8.23', 'babel-core': '5.8.25', 'babel-eslint': '6.0.2', 'babel-loader': '5.3.2', 'babel-root-import': '1.0.1', 'babel-runtime': '5.8.25', 'bcrypt': '0.8.7', 'bignumber.js': '2.3.0', 'bluebird': '3.3.4', 'chance': '1.0.1', 'codecov.io': '0.1.6', 'config': '1.20.1', 'ejs': '2.4.1', 'eslint': '2.7.0', 'eslint-plugin-mocha': '2.1.0', 'gulp': '3.9.1', 'gulp-babel': '5.2.1', 'gulp-debug': '2.1.2', 'gulp-mocha': '2.2.0', 'gulp-rimraf': '0.2.0', 'gulp-util': '3.0.7', 'jsonschema': '1.1.0', 'jsonwebtoken': '5.7.0', 'koa': '2.0.0-alpha.3', 'koa-66': '0.8.4', 'koa-bodyparser': '3.0.0', 'koa-convert': '1.2.0', 'koa-generic-session': '1.10.2', 'koa-passport': '2.0.1', 'lodash': '4.10.0', 'logfilename': '0.1.3', 'moment': '2.12.0', 'nodemailer': '2.3.2', 'passport-facebook': '2.1.0', 'passport-jwt': '2.0.0', 'passport-local': '1.0.0', 'passport-oauth2': '1.3.0', 'pg': '4.5.3', 'pg-hstore': '2.3.2', 'pg-native': '1.10.0', 'pm2': '1.1.1', 'qs': '6.1.0', 'rabbitmq-pubsub': '0.2.0', 'raml-mocker-server': '0.1.6', 'raml2html': '2.4.0', 'run-sequence': '1.1.5', 'sequelize': '3.21.0', 'socket.io': '1.4.5', 'sqlite3': '3.1.3', 'urijs': '1.17.1', 'validator': '5.2.0', 'webpack': '1.12.15', 'winston': '2.2.0'}\\n\\nThe Repository 'coimotion/coServ' has the following dependencies: {'readable-stream': '~1.0.2'}\\n\\nThe Repository 'MisterJames/CollidR' has the following dependencies: {}\\n\\nThe Repository 'Hive-Team/venus' has the following dependencies: {}\\n\\nThe Repository 'macctown/TalkOverParty---Oragnized' has the following dependencies: {'closest': '0.0.1'}\\n\\nThe Repository 'joshkirk/AngularJS-Invoice' has the following dependencies: {}\\n\\nThe Repository 'muhpatr/node-contact-app' has the following dependencies: {}\\n\\nThe Repository 'bretth18/healthLab' has the following dependencies: {'pinkie': '^2.0.0'}\\n\\nThe Repository 'esp/esp-js' has the following dependencies: {'esp-js': '0.7.0', 'prompt': '0.2.14'}\\n\\nThe Repository 'babel/babel' has the following dependencies: {'babel-plugin-transform-class-constructor-call': '^6.3.13', 'babel-plugin-transform-class-properties': '^6.3.13', 'babel-plugin-transform-decorators': '^6.3.13', 'babel-plugin-transform-export-extensions': '^6.3.13', 'babel-preset-stage-2': '^6.3.13'}\\n\\nThe Repository 'xautlx/s2jh' has the following dependencies: {}\\n\\nThe Repository 'state-hiu/SecondaryCities2' has the following dependencies: {'get-stdin': '^4.0.1', 'meow': '^3.3.0'}\\n\\nThe Repository 'whitecatboard/blocks-environment' has the following dependencies: {'generate-function': '^2.0.0', 'generate-object-property': '^1.1.0', 'jsonpointer': '^1.1.0', 'xtend': '^4.0.0'}\\n\\nThe Repository 'basenetwork/base.server-node' has the following dependencies: {'block-stream': '*', 'fstream': '~0.1.28', 'inherits': '2'}\\n\\nThe Repository 'fdecampredon/brackets-eslint' has the following dependencies: {'core-util-is': '~1.0.0', 'inherits': '~2.0.1', 'isarray': '~1.0.0', 'process-nextick-args': '~1.0.6', 'string_decoder': '~0.10.x', 'util-deprecate': '~1.0.1'}\\n\\nThe Repository 'apigee/apigeetool-node' has the following dependencies: {'request': '2.12.x'}\\n\\nThe Repository '596acres/livinglots-nyc' has the following dependencies: {'indexof': '0.0.1'}\\n\\nThe Repository 'trailblazer/trailblazer.github.io' has the following dependencies: {}\\n\\nThe Repository 'zkochan/mos' has the following dependencies: {}\\n\\nThe Repository 'bitfly-p2p/bitfly-client' has the following dependencies: {'debug': '2.2.0', 'json3': '3.3.2', 'component-emitter': '1.1.2', 'isarray': '0.0.1', 'benchmark': '1.0.0'}\\n\\nThe Repository 'appcelerator/titanium_mobile' has the following dependencies: {}\\n\\nThe Repository 'jadijadi/justforfun' has the following dependencies: {}\\n\\nThe Repository 'gradus/coffeecup' has the following dependencies: {'flatiron': 'git://github.com/twilson63/flatiron.git', 'union': '*', 'creamer': '*', 'ecstatic': 'git://github.com/jesusabdullah/node-ecstatic.git', 'resourceful': '*'}\\n\\nThe Repository 'appcelerator/titanium_mobile' has the following dependencies: {'debug': '~2.2.0', 'fstream': '~1.0.8', 'fstream-ignore': '~1.0.3', 'once': '~1.3.3', 'readable-stream': '~2.0.4', 'rimraf': '~2.5.1', 'tar': '~2.2.1', 'uid-number': '~0.0.6'}\\n\\nThe Repository 'principle-systems/react-shopping-cart-starter-kit' has the following dependencies: {'bn.js': '^2.0.0', 'brorand': '^1.0.1'}\\n\\nThe Repository 'NNRUG/it52-rails' has the following dependencies: {'es5-ext': '~0.10.2'}\\n\\nThe Repository 'steveacalabro/CraftMate' has the following dependencies: {}\\n\\nThe Repository 'nishoknm/wccsit-node' has the following dependencies: {}\\n\\nThe Repository 'strongloop/strong-globalize' has the following dependencies: {'fourth': '2.0.0'}\\n\\nThe Repository 'DMarby/Harpia' has the following dependencies: {'unirest': '~0.1.7', 'js-yaml': '^3.2.5'}\\n\\nThe Repository 'react-europe/hackathon' has the following dependencies: {'autoprefixer-loader': '^2.0.0', 'babel-core': '5.5.4', 'babel-eslint': '3.1.9', 'babel-loader': '5.1.2', 'babel-runtime': '^5.5.8', 'compass': '0.1.0', 'css-loader': '0.12.1', 'del': '1.1.1', 'eslint': '0.21.2', 'eslint-plugin-react': '2.3.0', 'extract-text-webpack-plugin': '0.8.0', 'file-loader': '0.8.1', 'gulp': '3.8.11', 'gulp-autoprefixer': '2.3.0', 'gulp-eslint': '0.12.0', 'gulp-jest': '^0.4.0', 'gulp-jscs': '1.6.0', 'gulp-jshint': '1.10.0', 'gulp-load-plugins': '0.10.0', 'gulp-plumber': '1.0.1', 'gulp-react': '3.0.1', 'gulp-rename': '1.2.2', 'gulp-ruby-sass': '1.0.5', 'gulp-run': '1.6.8', 'gulp-scss-lint': '0.2.0', 'gulp-sourcemaps': '1.5.2', 'gulp-template': '3.0.0', 'gulp-useref': '1.1.2', 'gulp-util': '3.0.4', 'harmonize': '^1.4.2', 'image-webpack-loader': '1.4.0', 'immutable': '3.7.3', 'imports-loader': '0.6.3', 'jasmine-pit': '2.0.2', 'jasmine-reporters': '1.0.1', 'jest-cli': 'git://github.com/robgietema/jest.git', 'jshint-stylish': '1.0.2', 'json-loader': '0.5.2', 'jsx-loader': '0.13.2', 'lodash': '3.9.3', 'marty': '0.10.1', 'open': '0.0.5', 'path': '0.11.14', 'react-hot-loader': '1.2.7', 'react-router': '0.13.3', 'react-tools': '0.13.3', 'run-sequence': '1.1.0', 'sass-loader': '1.0.2', 'sc5-styleguide': '^0.3.20', 'style-loader': '0.12.2', 'webpack': '1.9.7', 'webpack-dev-server': '1.8.2', 'wrench': '1.5.8', 'yargs': '3.10.0'}\\n\\nThe Repository 'AnnotatedJS/meteor-react-start-app' has the following dependencies: {}\\n\\nThe Repository 'mcaniw/CuBl' has the following dependencies: {}\\n\\nThe Repository 'AmpersandJS/amp' has the following dependencies: {'amp-is-function': '^1.0.0', 'amp-is-object': '^1.0.0'}\\n\\nThe Repository 'node-red/node-red-web-nodes' has the following dependencies: {'request': '~2.40.0', 'instagram-node': '0.5.1'}\\n\\nThe Repository 'alexyoung/nodeinpractice' has the following dependencies: {'express': '^3.4.8'}\\n\\nThe Repository 'Baidu-ecom/bi-platform' has the following dependencies: {'graceful-fs': '~1.1'}\\n\\nThe Repository 'resource11/FE-coding-challenge-04' has the following dependencies: {'colors': '0.5.x', 'underscore': '~1.4.4'}\\n\\nThe Repository 'markmarkoh/datamaps' has the following dependencies: {'dsv': '0.0', 'optimist': '0.3', 'queue-async': '1.0', 'shapefile': '0.1'}\\n\\nThe Repository 'myzhibie/microblog' has the following dependencies: {'nan': '1.7.0'}\\n\\nThe Repository 'kwhinnery/node-workshop' has the following dependencies: {}\\n\\nThe Repository 'FlorianBrett/MQTT-Home-Automation-Hub' has the following dependencies: {'media-typer': '0.3.0', 'mime-types': '~2.1.10'}\\n\\nThe Repository 'jskit2015/react-native-for-APICloud' has the following dependencies: {}\\n\\nThe Repository 'hilen/hexo-theme-themia' has the following dependencies: {'has-color': '~0.1.0', 'ansi-styles': '~1.0.0', 'strip-ansi': '~0.1.0'}\\n\\nThe Repository 'madre/devops' has the following dependencies: {'graceful-fs': '~4.1.2', 'minimatch': '~0.2.12', 'readable-stream': '~1.0.26-2'}\\n\\nThe Repository 'Hive-Team/venus' has the following dependencies: {}\\n\\nThe Repository 'otto-de/turing-microservice' has the following dependencies: {'express': '4.14.0', 'turing-config': '0.10.0'}\\n\\nThe Repository 'wooorm/remark' has the following dependencies: {'markdown-extensions': '^1.1.0', 'remark': '^5.0.0', 'unified-args': '^1.0.0'}\\n\\nThe Repository 'freakserv/cdn' has the following dependencies: {'amdefine': '>=0.0.4'}\\n\\nThe Repository 'phonegap/blog' has the following dependencies: {'commander': '~2.9.0', 'deep-extend': '~0.4.1', 'glob': '7.0.0', 'lodash.flatten': '4.1.0', 'lodash.values': '~4.1.0', 'markdownlint': '~0.1.1', 'rc': '~1.1.6'}\\n\\nThe Repository 'Microsoft/vscode-languageserver-node-example' has the following dependencies: {'vscode-languageserver': '^2.2.0'}\\n\\nThe Repository 'apache/cordova-ios' has the following dependencies: {'abbrev': '1'}\\n\\nThe Repository 'state-hiu/SecondaryCities2' has the following dependencies: {'lodash.escape': '~2.4.1', 'lodash._reinterpolate': '~2.4.1'}\\n\\nThe Repository 'codeschool/AngularJSSTB' has the following dependencies: {'mkdirp': '0.0.x'}\\n\\nThe Repository 'stu-blair/game-of-spoils' has the following dependencies: {'clone-stats': '~0.0.1'}\\n\\nThe Repository 'keybase/client' has the following dependencies: {'avdl-compiler': '^1.3.3'}\\n\\nThe Repository 'phongmedia/postworld' has the following dependencies: {'q': '0.8.4'}\\n\\nThe Repository 'format-message/format-message' has the following dependencies: {'babel-core': '^6.1.2', 'babylon': '^6.0.0', 'format-message-babel-util': '^4.0.0', 'format-message-generate-id': '^4.0.0', 'format-message-parse': '^4.0.0', 'lookup-closest-locale': '^4.0.0', 'source-map': '^0.5.3'}\\n\\nThe Repository 'I809764/DEV162A' has the following dependencies: {'approuter': '1.1.5'}\\n\\nThe Repository 'Asana/node-asana' has the following dependencies: {'asana': 'file:../../../'}\\n\\nThe Repository 'fdecampredon/brackets-eslint' has the following dependencies: {}\\n\\nThe Repository 'calitek/ReactPatterns' has the following dependencies: {'express': 'latest', 'reflux': 'latest', 'serve-favicon': 'latest'}\\n\\nThe Repository 'Azure/azure-iot-sdks' has the following dependencies: {'azure-iot-http-base': '1.0.9', 'azure-iot-common': '1.0.8', 'azure-iot-device': '1.0.8', 'node-crontab': '^0.0.8'}\\n\\n\""
      ]
     },
     "metadata": {},
     "output_type": "display_data"
    }
   ],
   "source": [
    "query = f\"Given the list below. Which is the most used dependency? How many repositories depend on it? Which repositories depend on it?\\n\\n{page_content}\"\n",
    "\n",
    "display(query)"
   ]
  },
  {
   "cell_type": "code",
   "execution_count": 26,
   "id": "24138b14",
   "metadata": {},
   "outputs": [
    {
     "name": "stdout",
     "output_type": "stream",
     "text": [
      "The most used dependency is 'lodash' which is used in 7 repositories. The repositories that depend on it are: 'cloudfoundry-incubator/cf-abacus', 'forivall/tacoscript', 'finn-no/unleash', 'blinkfox/ghost-matery', 'illacceptanything/illacceptanything', 'ninapetrop/Artist-Theme', 'mjmlio/mjml'.\n"
     ]
    }
   ],
   "source": [
    "response = openai.ChatCompletion.create(\n",
    "    model=\"gpt-4\",\n",
    "    messages=[{\"role\": \"user\", \"content\": query}],\n",
    "    temperature=0.0\n",
    ")\n",
    "print(response.choices[0].message.content)"
   ]
  },
  {
   "cell_type": "markdown",
   "id": "d338a7b6",
   "metadata": {},
   "source": []
  }
 ],
 "metadata": {
  "kernelspec": {
   "display_name": "Python 3 (ipykernel)",
   "language": "python",
   "name": "python3"
  },
  "language_info": {
   "codemirror_mode": {
    "name": "ipython",
    "version": 3
   },
   "file_extension": ".py",
   "mimetype": "text/x-python",
   "name": "python",
   "nbconvert_exporter": "python",
   "pygments_lexer": "ipython3",
   "version": "3.11.4"
  }
 },
 "nbformat": 4,
 "nbformat_minor": 5
}
