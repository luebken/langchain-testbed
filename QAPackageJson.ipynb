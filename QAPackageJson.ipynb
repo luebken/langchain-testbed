{
 "cells": [
  {
   "cell_type": "markdown",
   "id": "52824b89-532a-4e54-87e9-1410813cd39e",
   "metadata": {},
   "source": [
    "# Q&A over package.json with LangChain"
   ]
  },
  {
   "cell_type": "code",
   "execution_count": 2,
   "id": "974acf8e-8f88-42de-88f8-40a82cb58e8b",
   "metadata": {
    "height": 98
   },
   "outputs": [],
   "source": [
    "import json\n",
    "from pathlib import Path\n",
    "from langchain.chat_models import ChatOpenAI\n",
    "from langchain.vectorstores import DocArrayInMemorySearch\n",
    "from IPython.display import display, Markdown\n",
    "from langchain.indexes import VectorstoreIndexCreator\n",
    "from langchain.docstore.document import Document\n"
   ]
  },
  {
   "cell_type": "code",
   "execution_count": 3,
   "id": "485f070a",
   "metadata": {},
   "outputs": [],
   "source": [
    "import os\n",
    "from dotenv import load_dotenv, find_dotenv\n",
    "_ = load_dotenv(find_dotenv()) # read local .env file"
   ]
  },
  {
   "cell_type": "code",
   "execution_count": 49,
   "id": "ad223eb5",
   "metadata": {},
   "outputs": [
    {
     "name": "stdout",
     "output_type": "stream",
     "text": [
      "Decoding JSON has failed for pivotal-cf/dr-frankenstyle: Expecting value: line 1 column 1 (char 0)\n",
      "Decoding JSON has failed for jonsamwell/blog_examples: Expecting property name enclosed in double quotes: line 11 column 1 (char 338)\n",
      "Decoding JSON has failed for bradyhouse/house: Unexpected UTF-8 BOM (decode using utf-8-sig): line 1 column 1 (char 0)\n",
      "Decoding JSON has failed for Self-Driving-Vehicle/kinect-butler: Expecting ',' delimiter: line 11 column 5 (char 299)\n",
      "Decoding JSON has failed for bkirby989/WallaceTheme: Expecting value: line 7 column 19 (char 235)\n"
     ]
    }
   ],
   "source": [
    "file_path = \"package_json_sample.json\"\n",
    "data = json.loads(Path(file_path).read_text())\n",
    "documents = []\n",
    "for i in data:\n",
    "    repo_name = i[\"repo_name\"]\n",
    "    package_json_raw = i[\"package_json\"]\n",
    "    try:\n",
    "        package_json = json.loads(package_json_raw)\n",
    "        if type(package_json) is dict and \"dependencies\" in package_json:\n",
    "            dependencies = package_json[\"dependencies\"]\n",
    "            page_content = (\n",
    "                \"dependencies=\" + str(dependencies) + \"\\n\" + \"Repository=\" + repo_name\n",
    "            )\n",
    "            # TODO figure out metadata\n",
    "            d = Document(page_content=page_content, metadata={\"Repository\": repo_name})\n",
    "            documents.append(d)\n",
    "    except ValueError as e:\n",
    "        print(f\"Decoding JSON has failed for {repo_name}: {e}\")"
   ]
  },
  {
   "cell_type": "code",
   "execution_count": 50,
   "id": "9e200726",
   "metadata": {
    "height": 64
   },
   "outputs": [],
   "source": [
    "index = VectorstoreIndexCreator(\n",
    "    vectorstore_cls=DocArrayInMemorySearch\n",
    ").from_documents(documents)"
   ]
  },
  {
   "cell_type": "code",
   "execution_count": 51,
   "id": "34562d81",
   "metadata": {
    "height": 47
   },
   "outputs": [
    {
     "name": "stdout",
     "output_type": "stream",
     "text": [
      "\n",
      "\n",
      "\u001b[1m> Entering new RetrievalQA chain...\u001b[0m\n",
      "\n",
      "\u001b[1m> Finished chain.\u001b[0m\n"
     ]
    },
    {
     "data": {
      "text/markdown": [
       "The repositories that have 'babel-runtime' as a dependency and their respective versions are:\n",
       "\n",
       "1. Repository: Ramshackle-Jamathon/Interactive-Experiments\n",
       "   Dependency: babel-runtime\n",
       "   Version: ^5.0.0\n",
       "\n",
       "2. Repository: princesadie/SnapDrop-react\n",
       "   Dependency: babel-runtime\n",
       "   Version: ^5.0.0\n",
       "\n",
       "3. Repository: aintnorest/ubiquitous-spoon\n",
       "   Dependency: babel-runtime\n",
       "   Version: ^6.0.0\n",
       "\n",
       "4. Repository: SupremeTechnopriest/react-blueprint\n",
       "   Dependency: babel-runtime\n",
       "   Version: ^6.3.19"
      ],
      "text/plain": [
       "<IPython.core.display.Markdown object>"
      ]
     },
     "metadata": {},
     "output_type": "display_data"
    }
   ],
   "source": [
    "llm = ChatOpenAI(temperature = 0.0)\n",
    "# query =\"What are the dependencies for the Repository CiroArtigot/ababool\"\n",
    "query =\"Which repositories have 'babel-runtime' as a dependency and in which version?\"\n",
    "# TODO\n",
    "# query =\"What is the most used dependency?\"\n",
    "response = index.query(query, llm, \"\", verbose=True)\n",
    "display(Markdown(response))"
   ]
  }
 ],
 "metadata": {
  "kernelspec": {
   "display_name": "Python 3 (ipykernel)",
   "language": "python",
   "name": "python3"
  },
  "language_info": {
   "codemirror_mode": {
    "name": "ipython",
    "version": 3
   },
   "file_extension": ".py",
   "mimetype": "text/x-python",
   "name": "python",
   "nbconvert_exporter": "python",
   "pygments_lexer": "ipython3",
   "version": "3.11.4"
  }
 },
 "nbformat": 4,
 "nbformat_minor": 5
}
