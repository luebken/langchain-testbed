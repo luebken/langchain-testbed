{
 "cells": [
  {
   "cell_type": "markdown",
   "id": "52824b89-532a-4e54-87e9-1410813cd39e",
   "metadata": {},
   "source": [
    "# Q&A over package.json with LangChain"
   ]
  },
  {
   "cell_type": "code",
   "execution_count": 1,
   "id": "974acf8e-8f88-42de-88f8-40a82cb58e8b",
   "metadata": {
    "height": 98
   },
   "outputs": [],
   "source": [
    "import json\n",
    "from pathlib import Path\n",
    "from langchain.chat_models import ChatOpenAI\n",
    "from langchain.vectorstores import DocArrayInMemorySearch\n",
    "from IPython.display import display, Markdown\n",
    "from langchain.indexes import VectorstoreIndexCreator\n",
    "from langchain.docstore.document import Document\n"
   ]
  },
  {
   "cell_type": "code",
   "execution_count": 2,
   "id": "485f070a",
   "metadata": {},
   "outputs": [],
   "source": [
    "import os\n",
    "from dotenv import load_dotenv, find_dotenv\n",
    "_ = load_dotenv(find_dotenv()) # read local .env file"
   ]
  },
  {
   "cell_type": "code",
   "execution_count": 3,
   "id": "ad223eb5",
   "metadata": {},
   "outputs": [
    {
     "name": "stdout",
     "output_type": "stream",
     "text": [
      "Decoding JSON has failed\n",
      "Decoding JSON has failed\n",
      "Decoding JSON has failed\n",
      "Decoding JSON has failed\n",
      "Decoding JSON has failed\n",
      "Decoding JSON has failed\n"
     ]
    }
   ],
   "source": [
    "file_path = 'package_json_sample.json'\n",
    "data = json.loads(Path(file_path).read_text())\n",
    "documents = []\n",
    "for i in data:\n",
    "    repo_name = i[\"repo_name\"]\n",
    "    package_json_raw = i[\"package_json\"]\n",
    "    try:\n",
    "        package_json = json.loads(package_json_raw)\n",
    "        # TODO How to get the semantic json structure into page_content from a document\n",
    "        # the str() function kind of defeats the purpose\n",
    "        # See https://github.com/langchain-ai/langchain/discussions/6378\n",
    "        d = Document(page_content=str(package_json), metadata=package_json)\n",
    "        documents.append(d)\n",
    "    except ValueError:\n",
    "        print('Decoding JSON has failed')"
   ]
  },
  {
   "cell_type": "code",
   "execution_count": 4,
   "id": "9e200726",
   "metadata": {
    "height": 64
   },
   "outputs": [],
   "source": [
    "index = VectorstoreIndexCreator(\n",
    "    vectorstore_cls=DocArrayInMemorySearch\n",
    ").from_documents(documents)"
   ]
  },
  {
   "cell_type": "code",
   "execution_count": 5,
   "id": "34562d81",
   "metadata": {
    "height": 47
   },
   "outputs": [
    {
     "name": "stdout",
     "output_type": "stream",
     "text": [
      "\n",
      "\n",
      "\u001b[1m> Entering new RetrievalQA chain...\u001b[0m\n",
      "\n",
      "\u001b[1m> Finished chain.\u001b[0m\n"
     ]
    },
    {
     "data": {
      "text/markdown": [
       "1. {'devDependencies': {'grunt': '~0.4.1', 'grunt-perfbudget': '~0.1.3'}}\n",
       "2. {'devDependencies': {'grunt': '~0.4.5', 'grunt-autoprefixer': '~0.4.0', 'grunt-bower-install': '~1.0.0', 'grunt-concurrent': '~0.5.0', 'grunt-contrib-clean': '~0.5.0', 'grunt-contrib-concat': '~0.3.0', 'grunt-contrib-connect': '~0.5.0', 'grunt-contrib-copy': '~0.4.1', 'grunt-contrib-cssmin': '~0.7.0', 'grunt-contrib-htmlmin': '~0.1.3', 'grunt-contrib-imagemin': '~0.3.0', 'grunt-contrib-jshint': '~0.7.1', 'grunt-contrib-uglify': '~0.2.0', 'grunt-contrib-watch': '~0.5.2', 'grunt-google-cdn': '~0.2.0', 'grunt-newer': '~0.6.1', 'grunt-ngmin': '~0.0.2', 'grunt-rev': '~0.1.0', 'grunt-svgmin': '~0.2.0', 'grunt-usemin': '~2.0.0', 'jshint-stylish': '~0.1.3', 'load-grunt-tasks': '~0.4.0', 'time-grunt': '~0.2.1', 'karma-phantomjs-launcher': '~0.1.4', 'grunt-karma': '~0.8.3', 'karma': '~0.12.16', 'karma-jasmine': '~0.1.5'}}"
      ],
      "text/plain": [
       "<IPython.core.display.Markdown object>"
      ]
     },
     "metadata": {},
     "output_type": "display_data"
    }
   ],
   "source": [
    "llm = ChatOpenAI(temperature = 0.0)\n",
    "query =\"List all entries where 'devDependencies' contains 'grunt'\"\n",
    "response = index.query(query, llm, \"\", verbose=True)\n",
    "display(Markdown(response))\n"
   ]
  }
 ],
 "metadata": {
  "kernelspec": {
   "display_name": "Python 3 (ipykernel)",
   "language": "python",
   "name": "python3"
  },
  "language_info": {
   "codemirror_mode": {
    "name": "ipython",
    "version": 3
   },
   "file_extension": ".py",
   "mimetype": "text/x-python",
   "name": "python",
   "nbconvert_exporter": "python",
   "pygments_lexer": "ipython3",
   "version": "3.11.4"
  }
 },
 "nbformat": 4,
 "nbformat_minor": 5
}
